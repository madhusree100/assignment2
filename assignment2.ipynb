{
  "nbformat": 4,
  "nbformat_minor": 0,
  "metadata": {
    "colab": {
      "provenance": []
    },
    "kernelspec": {
      "name": "python3",
      "display_name": "Python 3"
    },
    "language_info": {
      "name": "python"
    }
  },
  "cells": [
    {
      "cell_type": "markdown",
      "source": [
        "**1. What are data structures, and why are they important?**\n",
        "Ans. Data structures are way of storing data for better manipulation and storing of data. They are important because data is important to give us insights.  \n"
      ],
      "metadata": {
        "id": "O8su6Xp8LCts"
      }
    },
    {
      "cell_type": "markdown",
      "source": [
        "**2.  Explain the difference between mutable and immutable data types with examples?**\n",
        "Ans. Mutable datatypes are datatypes to which changes can be made but immutable datatypes are data types to which changes cant be made. For example lists, sets are datatypes to which changes can be made and whereas tuples are datatypes to which changes cant be made."
      ],
      "metadata": {
        "id": "zzHK1hWISk81"
      }
    },
    {
      "cell_type": "markdown",
      "source": [
        "**3. What are the main differences between lists and tuples in Python?**\n",
        "Ans Lists are datatypes which are mutable and changes can be made but tuples are datatypes which are immutable and changes cant be made."
      ],
      "metadata": {
        "id": "QvgXxQIKTN5U"
      }
    },
    {
      "cell_type": "markdown",
      "source": [
        "**4. Describe how dictionaries store data**\n",
        "Ans. Dictionaries store data as key value pairs."
      ],
      "metadata": {
        "id": "Z4hcheGDTqOo"
      }
    },
    {
      "cell_type": "markdown",
      "source": [
        "**5. Why might you use a set instead of a list in Python?**\n",
        "Ans. we might use set instead of list as it has unique collect of elements and does not allow repetition of elements."
      ],
      "metadata": {
        "id": "om7AShL5T5PS"
      }
    },
    {
      "cell_type": "markdown",
      "source": [
        "**6.  What is a string in Python, and how is it different from a list?**\n",
        "Ans. Strings and list are both datatypes but strings store only character values but lists store collection of elements and the elements can of different datatypes. Eg string=\"abc\" and list1=[1,\"a\",[1,2,3]]."
      ],
      "metadata": {
        "id": "EIysTvp8Uh-f"
      }
    },
    {
      "cell_type": "markdown",
      "source": [
        "**7. How do tuples ensure data integrity in Python?**\n",
        "Ans. Tuples are datatypes that are immutable so we cant make changes stored in the memory. For example if we need to store employee ids we can store it in tuples and we cnat make changes in it and hence store the integrity of information."
      ],
      "metadata": {
        "id": "vBcI4qs1Vuzf"
      }
    },
    {
      "cell_type": "markdown",
      "source": [
        "**8. What is a hash table, and how does it relate to dictionaries in Python?**\n",
        "Ans. Hash table is a data type that stores key value pairs . Dictionaries are created using hash tables. The keys should be of datatypes whose hash value does not change over time."
      ],
      "metadata": {
        "id": "YSMI8XZeWgA9"
      }
    },
    {
      "cell_type": "markdown",
      "source": [
        "**9. Can lists contain different data types in Python?**\n",
        "Ans. Yes , lists can contain different datatypes as elements."
      ],
      "metadata": {
        "id": "fDR1BqMeXX5Z"
      }
    },
    {
      "cell_type": "markdown",
      "source": [
        "**10. Explain why strings are immutable in Python.**\n",
        "Ans. strings are immutable meaning we cant change its value once stored.Since it can be used as the keys for dictionaries whose hash value should not change , hence strings are immutable."
      ],
      "metadata": {
        "id": "hpgwzhkUXwxt"
      }
    },
    {
      "cell_type": "markdown",
      "source": [
        "**11. What advantages do dictionaries offer over lists for certain tasks?**\n",
        "Ans. Dictionaries store key value pairs and it helps in storing data which have keys that have subinformation eg name, age, marksetc. Whereas lists are used used to have unordered set of elements which can be of different datatypes. Eg list1=[[\"ajay\",20],[\"atul\",30],[\"ram\",24]] , dict1={\"name\":[\"ajay\",\"atul\",\"ram\",\"age\":[20,30,24]}. we see that list1 and dict1 have same data bur dict1 which is a dictionary is more organised."
      ],
      "metadata": {
        "id": "CbvnHQQ6Y1nO"
      }
    },
    {
      "cell_type": "markdown",
      "source": [
        "**12. Describe a scenario where using a tuple would be preferable over a list.**\n",
        "Ans. we take a senerio of a office where we need to store employee id . we would want to store and protect data and choose a way where we cant change the data. For this purpose tuples can be prefered over lists as tuples are immutable."
      ],
      "metadata": {
        "id": "4jKcCfc3ZKF1"
      }
    },
    {
      "cell_type": "markdown",
      "source": [
        "**13.How do sets handle duplicate values in Python?**\n",
        "Ans. Sets deletes the duplicate data or data that has been repeated more than once and gives us unique elements."
      ],
      "metadata": {
        "id": "T2o5vcFUZ-4G"
      }
    },
    {
      "cell_type": "markdown",
      "source": [
        "**14. How does the “in” keyword work differently for lists and dictionaries?**\n",
        "Ans. \"in\" keyword is used to check membership. \"in\" is used in list to check whether a particular element is in the list or not and \"in\" is used to check whether a particular key is present or not in the dictionary.\n"
      ],
      "metadata": {
        "id": "Y0LS8qdiahDW"
      }
    },
    {
      "cell_type": "markdown",
      "source": [
        "**15. Can you modify the elements of a tuple? Explain why or why not?**\n",
        "Ans. No we cant modify the elements of tuple since it is immutable and its hash value cant be changed."
      ],
      "metadata": {
        "id": "jaugUo_2fMDK"
      }
    },
    {
      "cell_type": "markdown",
      "source": [
        "**16. What is a nested dictionary, and give an example of its use case?**\n",
        "Ans. Nested Dictitionary is a dictionary where the values of keys are dictionaries itself.eg.students={\"ajay\":{\"age\":20,\"major\":\"maths\"},\"atul\":{\"age\":20,\"major\":\"english\"}}. its used for better and precise storing of data."
      ],
      "metadata": {
        "id": "CV5k36JWfcle"
      }
    },
    {
      "cell_type": "markdown",
      "source": [
        "**17.  Describe the time complexity of accessing elements in a dictionary?**\n",
        "Ans. When we  access an element using a key like dict1[\"name\"] Python hashes the key to find the respective value in memory. This hash-based lookup takes the same amount of time regardless of the size of the dictionary."
      ],
      "metadata": {
        "id": "l4XD6Rq8gb8z"
      }
    },
    {
      "cell_type": "markdown",
      "source": [
        "**18. In what situations are lists preferred over dictionaries?**\n",
        "Ans. We prefer lists over dictionaries when there are simple collection of data and we have to have index based searching of our data."
      ],
      "metadata": {
        "id": "Gi7-rPddZ8rw"
      }
    },
    {
      "cell_type": "markdown",
      "source": [
        "**19. Why are dictionaries considered unordered, and how does that affect data retrieval?**\n",
        "Ans. Dictionaries are considered unordered because we do not give indexing of the data and we acnt retrive data using indexing properties like lists or tuples. we retrive data using the key names."
      ],
      "metadata": {
        "id": "t0rwCT84hguJ"
      }
    },
    {
      "cell_type": "markdown",
      "source": [
        "**20.  Explain the difference between a list and a dictionary in terms of data retrieval.**\n",
        "Ans. lists use index to identity the position of elements inside it and they are ordered. we can simply retrieve data using indexing like list1[index_value]. Whereas dictionaries are unordered collection of data and cant use indexing to retrieve data, thus we use key to retrive data."
      ],
      "metadata": {
        "id": "-ibWBeBPiGod"
      }
    },
    {
      "cell_type": "code",
      "execution_count": null,
      "metadata": {
        "colab": {
          "base_uri": "https://localhost:8080/"
        },
        "id": "Y4wh2ptytlZH",
        "outputId": "f0c6e9eb-a1cf-4476-e5d6-9bcb0ee343e9"
      },
      "outputs": [
        {
          "output_type": "stream",
          "name": "stdout",
          "text": [
            "Madhusree Purkayastha\n"
          ]
        }
      ],
      "source": [
        "#practical questions\n",
        "#1. Write a code to create a string with your name and print it\n",
        "name=\"Madhusree Purkayastha\"\n",
        "print(name)"
      ]
    },
    {
      "cell_type": "code",
      "source": [
        "#2.  Write a code to find the length of the string \"Hello World\".\n",
        "\n",
        "a=\"Hello World\"\n",
        "length=len(a)\n",
        "print(\"The length of 'Hello World' is \",length )"
      ],
      "metadata": {
        "colab": {
          "base_uri": "https://localhost:8080/"
        },
        "id": "Qcc4-w-dvj8Q",
        "outputId": "14901a8f-49c6-40d2-88d8-a1e2cd55ddff"
      },
      "execution_count": null,
      "outputs": [
        {
          "output_type": "stream",
          "name": "stdout",
          "text": [
            "The length of 'Hello World' is  11\n"
          ]
        }
      ]
    },
    {
      "cell_type": "code",
      "source": [
        "#3. Write a code to slice the first 3 characters from the string \"Python Programming\"\n",
        "\n",
        "word=\"Python Programming\"\n",
        "print(word[0:3])"
      ],
      "metadata": {
        "colab": {
          "base_uri": "https://localhost:8080/"
        },
        "id": "n_ZpuSoFv6_V",
        "outputId": "b4cad81f-6c77-47a5-d8eb-fdf97a09e40f"
      },
      "execution_count": null,
      "outputs": [
        {
          "output_type": "stream",
          "name": "stdout",
          "text": [
            "Pyt\n"
          ]
        }
      ]
    },
    {
      "cell_type": "code",
      "source": [
        "#4. Write a code to convert the string \"hello\" to uppercase.\n",
        "\n",
        "word=\"hello\"\n",
        "print(word.upper())"
      ],
      "metadata": {
        "colab": {
          "base_uri": "https://localhost:8080/"
        },
        "id": "J_DxjfpEwPcH",
        "outputId": "5a9563ba-9f74-466e-ed94-003da66fe530"
      },
      "execution_count": null,
      "outputs": [
        {
          "output_type": "stream",
          "name": "stdout",
          "text": [
            "HELLO\n"
          ]
        }
      ]
    },
    {
      "cell_type": "code",
      "source": [
        "#5. Write a code to replace the word \"apple\" with \"orange\" in the string \"I like apple\".\n",
        "\n",
        "sentence=\"I like apple.\"\n",
        "print(sentence.replace(\"apple\",\"orange\"))"
      ],
      "metadata": {
        "colab": {
          "base_uri": "https://localhost:8080/"
        },
        "id": "vazVGVctwbpT",
        "outputId": "291f4702-5d2d-4ef6-b75e-92220df31335"
      },
      "execution_count": null,
      "outputs": [
        {
          "output_type": "stream",
          "name": "stdout",
          "text": [
            "I like orange.\n"
          ]
        }
      ]
    },
    {
      "cell_type": "code",
      "source": [
        "#6. Write a code to create a list with numbers 1 to 5 and print it.\n",
        "\n",
        "list1=[]\n",
        "for i in range(1,6):\n",
        "  list1.append(i)\n",
        "print(list1)"
      ],
      "metadata": {
        "colab": {
          "base_uri": "https://localhost:8080/"
        },
        "id": "CzApBmxfxezy",
        "outputId": "9a066aea-0c1c-49e3-b5cd-a51fb522b720"
      },
      "execution_count": null,
      "outputs": [
        {
          "output_type": "stream",
          "name": "stdout",
          "text": [
            "[1, 2, 3, 4, 5]\n"
          ]
        }
      ]
    },
    {
      "cell_type": "code",
      "source": [
        "#7. Write a code to append the number 10 to the list [1, 2, 3, 4].\n",
        "\n",
        "num=[1,2,3,4]\n",
        "num.append(10)\n",
        "print(num)"
      ],
      "metadata": {
        "colab": {
          "base_uri": "https://localhost:8080/"
        },
        "id": "czKmBLMgxzgQ",
        "outputId": "6b4215b8-1562-4b27-839e-90f503b7a6aa"
      },
      "execution_count": null,
      "outputs": [
        {
          "output_type": "stream",
          "name": "stdout",
          "text": [
            "[1, 2, 3, 4, 10]\n"
          ]
        }
      ]
    },
    {
      "cell_type": "code",
      "source": [
        "#8. Write a code to remove the number 3 from the list [1, 2, 3, 4, 5]\n",
        "\n",
        "num=[1,2,3,4,5]\n",
        "num.remove(3)\n",
        "print(num)"
      ],
      "metadata": {
        "colab": {
          "base_uri": "https://localhost:8080/"
        },
        "id": "XTVhDVBRyDTx",
        "outputId": "86b9e330-2878-4e4b-f8cb-b0843bf5bca8"
      },
      "execution_count": null,
      "outputs": [
        {
          "output_type": "stream",
          "name": "stdout",
          "text": [
            "[1, 2, 4, 5]\n"
          ]
        }
      ]
    },
    {
      "cell_type": "code",
      "source": [
        "#9.  Write a code to access the second element in the list ['a', 'b', 'c', 'd'].\n",
        "\n",
        "letters=['a','b','c','d']\n",
        "print(letters[1])"
      ],
      "metadata": {
        "colab": {
          "base_uri": "https://localhost:8080/"
        },
        "id": "cD2RZeF-yO6n",
        "outputId": "faf2705b-6108-444b-b7ee-722930280b0c"
      },
      "execution_count": null,
      "outputs": [
        {
          "output_type": "stream",
          "name": "stdout",
          "text": [
            "b\n"
          ]
        }
      ]
    },
    {
      "cell_type": "code",
      "source": [
        "#10. Write a code to reverse the list [10, 20, 30, 40, 50].\n",
        "\n",
        "num=[10,20,30,40,50]\n",
        "num.reverse()\n",
        "print(num)"
      ],
      "metadata": {
        "colab": {
          "base_uri": "https://localhost:8080/"
        },
        "id": "tSxikLRSykR5",
        "outputId": "78b7b68b-17a1-404b-87ed-c3dd05b7d143"
      },
      "execution_count": null,
      "outputs": [
        {
          "output_type": "stream",
          "name": "stdout",
          "text": [
            "[50, 40, 30, 20, 10]\n"
          ]
        }
      ]
    },
    {
      "cell_type": "code",
      "source": [
        "#11. Write a code to create a tuple with the elements 100, 200, 300 and print it.\n",
        "\n",
        "t=(100,200,300)\n",
        "print(t)\n",
        "print(type(t))"
      ],
      "metadata": {
        "colab": {
          "base_uri": "https://localhost:8080/"
        },
        "id": "gW4miCaIy8EX",
        "outputId": "85a6441b-bcc5-4943-acfc-02155c369484"
      },
      "execution_count": null,
      "outputs": [
        {
          "output_type": "stream",
          "name": "stdout",
          "text": [
            "(100, 200, 300)\n",
            "<class 'tuple'>\n"
          ]
        }
      ]
    },
    {
      "cell_type": "code",
      "source": [
        "#12. Write a code to access the second-to-last element of the tuple ('red', 'green', 'blue', 'yellow').\n",
        "\n",
        "t=('red', 'green', 'blue', 'yellow')\n",
        "print(t)\n",
        "print(\"the second last element is \",t[2])"
      ],
      "metadata": {
        "colab": {
          "base_uri": "https://localhost:8080/"
        },
        "id": "iUeSliOlzL_k",
        "outputId": "56be528f-d1f5-4d00-e28f-5ed9a87debdb"
      },
      "execution_count": null,
      "outputs": [
        {
          "output_type": "stream",
          "name": "stdout",
          "text": [
            "('red', 'green', 'blue', 'yellow')\n",
            "the second last element is  blue\n"
          ]
        }
      ]
    },
    {
      "cell_type": "code",
      "source": [
        "#13.  Write a code to find the minimum number in the tuple (10, 20, 5, 15).\n",
        "\n",
        "t=(10, 20, 5, 15)\n",
        "print(t)\n",
        "print(\"The minimum element of the tuple is \",min(t))"
      ],
      "metadata": {
        "colab": {
          "base_uri": "https://localhost:8080/"
        },
        "id": "abBX95mqztVb",
        "outputId": "c2cdf42b-9a0f-4829-ef4d-632d98b0e32c"
      },
      "execution_count": null,
      "outputs": [
        {
          "output_type": "stream",
          "name": "stdout",
          "text": [
            "(10, 20, 5, 15)\n",
            "The minimum element of the tuple is  5\n"
          ]
        }
      ]
    },
    {
      "cell_type": "code",
      "source": [
        "#14. Write a code to find the index of the element \"cat\" in the tuple ('dog', 'cat', 'rabbit').\n",
        "\n",
        "animals=('dog', 'cat', 'rabbit')\n",
        "print(animals)\n",
        "print(\"The index of the 'cat' in the tuple is \",animals.index('cat'))"
      ],
      "metadata": {
        "colab": {
          "base_uri": "https://localhost:8080/"
        },
        "id": "F6eRXT3Q0NhK",
        "outputId": "29d1d5c9-2e81-4b39-e886-58255581d79b"
      },
      "execution_count": null,
      "outputs": [
        {
          "output_type": "stream",
          "name": "stdout",
          "text": [
            "('dog', 'cat', 'rabbit')\n",
            "The index of the 'cat' in the tuple is  1\n"
          ]
        }
      ]
    },
    {
      "cell_type": "code",
      "source": [
        "#15.  Write a code to create a tuple containing three different fruits and check if \"kiwi\" is in it.\n",
        "\n",
        "fruits=(\"apple\",\"banana\",\"kiwi\")\n",
        "print(fruits)\n",
        "if \"kiwi\" in fruits:\n",
        "  print(\"kiwi is there in the tuple.\")\n",
        "else:\n",
        "  print(\"kiwi is not there.\")"
      ],
      "metadata": {
        "colab": {
          "base_uri": "https://localhost:8080/"
        },
        "id": "WkEgGyq60ylv",
        "outputId": "37f65141-2c3c-4a84-c5d9-ebb510c9dfde"
      },
      "execution_count": null,
      "outputs": [
        {
          "output_type": "stream",
          "name": "stdout",
          "text": [
            "('apple', 'banana', 'kiwi')\n",
            "kiwi is there in the tuple.\n"
          ]
        }
      ]
    },
    {
      "cell_type": "code",
      "source": [
        "#16.  Write a code to create a set with the elements 'a', 'b', 'c' and print it.\n",
        "\n",
        "letters={'a','b', 'c'}\n",
        "print(letters)\n",
        "print(type(letters))"
      ],
      "metadata": {
        "colab": {
          "base_uri": "https://localhost:8080/"
        },
        "id": "QA8ENN-A1R1g",
        "outputId": "3c382112-838c-4243-f879-e345d3a3435e"
      },
      "execution_count": null,
      "outputs": [
        {
          "output_type": "stream",
          "name": "stdout",
          "text": [
            "{'a', 'c', 'b'}\n",
            "<class 'set'>\n"
          ]
        }
      ]
    },
    {
      "cell_type": "code",
      "source": [
        "#17.  Write a code to clear all elements from the set {1, 2, 3, 4, 5}.\n",
        "\n",
        "num={1, 2, 3, 4, 5}\n",
        "num.clear()\n",
        "print(num)"
      ],
      "metadata": {
        "colab": {
          "base_uri": "https://localhost:8080/"
        },
        "id": "kTumBp4A3O7U",
        "outputId": "a18d5966-6a02-4d18-efe6-bc1c494458d2"
      },
      "execution_count": null,
      "outputs": [
        {
          "output_type": "stream",
          "name": "stdout",
          "text": [
            "set()\n"
          ]
        }
      ]
    },
    {
      "cell_type": "code",
      "source": [
        "#18. Write a code to remove the element 4 from the set {1, 2, 3, 4}.\n",
        "\n",
        "num={1, 2, 3, 4}\n",
        "num.remove(4)\n",
        "print(num)"
      ],
      "metadata": {
        "colab": {
          "base_uri": "https://localhost:8080/"
        },
        "id": "lvngO0P3357y",
        "outputId": "d0d09563-819a-44b1-ed1c-ae5ea17f8060"
      },
      "execution_count": null,
      "outputs": [
        {
          "output_type": "stream",
          "name": "stdout",
          "text": [
            "{1, 2, 3}\n"
          ]
        }
      ]
    },
    {
      "cell_type": "code",
      "source": [
        "#19.  Write a code to find the union of two sets {1, 2, 3} and {3, 4, 5}.\n",
        "\n",
        "num1={1, 2, 3}\n",
        "print(num1)\n",
        "num2={3, 4, 5}\n",
        "print(num2)\n",
        "print(\"union is \",num1|num2)\n"
      ],
      "metadata": {
        "colab": {
          "base_uri": "https://localhost:8080/"
        },
        "id": "LE7KMJbz5U4c",
        "outputId": "94956137-785c-4fc9-a4d7-9144fa3b16d1"
      },
      "execution_count": null,
      "outputs": [
        {
          "output_type": "stream",
          "name": "stdout",
          "text": [
            "{1, 2, 3}\n",
            "{3, 4, 5}\n",
            "union is  {1, 2, 3, 4, 5}\n"
          ]
        }
      ]
    },
    {
      "cell_type": "code",
      "source": [
        "#20.  Write a code to find the intersection of two sets {1, 2, 3} and {2, 3, 4}.\n",
        "\n",
        "num1={1, 2, 3}\n",
        "print(num1)\n",
        "num2={2, 3, 4}\n",
        "print(num2)\n",
        "print(\"the intersection is \",num1 & num2)\n"
      ],
      "metadata": {
        "colab": {
          "base_uri": "https://localhost:8080/"
        },
        "id": "BIv7SqlB52YO",
        "outputId": "77e8f655-4c5b-4cbd-ebf8-e4202d883926"
      },
      "execution_count": null,
      "outputs": [
        {
          "output_type": "stream",
          "name": "stdout",
          "text": [
            "{1, 2, 3}\n",
            "{2, 3, 4}\n",
            "the intersection is  {2, 3}\n"
          ]
        }
      ]
    },
    {
      "cell_type": "code",
      "source": [
        "#21.  Write a code to create a dictionary with the keys \"name\", \"age\", and \"city\", and print it.\n",
        "\n",
        "dict1={\"name\":\"Madhusree\",\n",
        "       \"age\":23,\n",
        "       \"city\":\"Guwahati\"}\n",
        "print(dict1)\n",
        "print(type(dict1))"
      ],
      "metadata": {
        "colab": {
          "base_uri": "https://localhost:8080/"
        },
        "id": "vYBaTVGZ93OX",
        "outputId": "afe024eb-5122-4a91-dc9a-32136fd213a8"
      },
      "execution_count": null,
      "outputs": [
        {
          "output_type": "stream",
          "name": "stdout",
          "text": [
            "{'name': 'Madhusree', 'age': 23, 'city': 'Guwahati'}\n",
            "<class 'dict'>\n"
          ]
        }
      ]
    },
    {
      "cell_type": "code",
      "source": [
        "#22.  Write a code to add a new key-value pair \"country\": \"USA\" to the dictionary {'name': 'John', 'age': 25}.\n",
        "\n",
        "dict1={'name': 'John', 'age': 25}\n",
        "dict1[\"country\"]=\"USA\"\n",
        "print(dict1)"
      ],
      "metadata": {
        "colab": {
          "base_uri": "https://localhost:8080/"
        },
        "id": "iLvoEPNV-SQt",
        "outputId": "3ffaf17a-3300-4c5b-a3d6-ef5554bff22b"
      },
      "execution_count": null,
      "outputs": [
        {
          "output_type": "stream",
          "name": "stdout",
          "text": [
            "{'name': 'John', 'age': 25, 'country': 'USA'}\n"
          ]
        }
      ]
    },
    {
      "cell_type": "code",
      "source": [
        "#23.  Write a code to access the value associated with the key \"name\" in the dictionary {'name': 'Alice', 'age': 30}\n",
        "\n",
        "dict1={'name': 'Alice', 'age': 30}\n",
        "print(dict1)\n",
        "print(dict1[\"name\"])"
      ],
      "metadata": {
        "colab": {
          "base_uri": "https://localhost:8080/"
        },
        "id": "0JXWJP5QlaPf",
        "outputId": "6aa509de-5f7b-405a-d5e8-14af23f79aea"
      },
      "execution_count": null,
      "outputs": [
        {
          "output_type": "stream",
          "name": "stdout",
          "text": [
            "{'name': 'Alice', 'age': 30}\n",
            "Alice\n"
          ]
        }
      ]
    },
    {
      "cell_type": "code",
      "source": [
        "#24. Write a code to remove the key \"age\" from the dictionary {'name': 'Bob', 'age': 22, 'city': 'New York'}.\n",
        "\n",
        "dict1={'name': 'Bob', 'age': 22, 'city': 'New York'}\n",
        "dict1.pop(\"age\")\n",
        "print(dict1)\n"
      ],
      "metadata": {
        "colab": {
          "base_uri": "https://localhost:8080/"
        },
        "id": "36c_mdHslogV",
        "outputId": "2717dec6-bce8-4051-d91b-13d5df26be06"
      },
      "execution_count": null,
      "outputs": [
        {
          "output_type": "stream",
          "name": "stdout",
          "text": [
            "{'name': 'Bob', 'city': 'New York'}\n"
          ]
        }
      ]
    },
    {
      "cell_type": "code",
      "source": [
        "#25.  Write a code to check if the key \"city\" exists in the dictionary {'name': 'Alice', 'city': 'Paris'}\n",
        "\n",
        "dict1={'name': 'Alice', 'city': 'Paris'}\n",
        "if \"city\" in dict1:\n",
        "  print(\"city exits\")\n",
        "else:\n",
        "  print(\"dosent exist\")"
      ],
      "metadata": {
        "colab": {
          "base_uri": "https://localhost:8080/"
        },
        "id": "OOZRVQrcl6yB",
        "outputId": "0b297543-7094-41cf-d04c-173d571136e2"
      },
      "execution_count": null,
      "outputs": [
        {
          "output_type": "stream",
          "name": "stdout",
          "text": [
            "city exits\n"
          ]
        }
      ]
    },
    {
      "cell_type": "code",
      "source": [
        "#26.  Write a code to create a list, a tuple, and a dictionary, and print them all.\n",
        "\n",
        "list1=[1,2,2,3,4,5]\n",
        "print(list1)\n",
        "tuple1=(\"i\",\"dont\",\"know\")\n",
        "print(tuple1)\n",
        "dict1={'name': 'Bob', 'age': 22, 'city': 'New York'}\n",
        "print(dict1)"
      ],
      "metadata": {
        "colab": {
          "base_uri": "https://localhost:8080/"
        },
        "id": "CEJbse_Go-MD",
        "outputId": "bd8c2be7-0c35-4a78-ead0-8539666946b6"
      },
      "execution_count": null,
      "outputs": [
        {
          "output_type": "stream",
          "name": "stdout",
          "text": [
            "[1, 2, 2, 3, 4, 5]\n",
            "('i', 'dont', 'know')\n",
            "{'name': 'Bob', 'age': 22, 'city': 'New York'}\n"
          ]
        }
      ]
    },
    {
      "cell_type": "code",
      "source": [
        "#27. Write a code to create a list of 5 random numbers between 1 and 100, sort it in ascending order, and print the\n",
        "#result.(replaced)\n",
        "\n",
        "import random\n",
        "\n",
        "list1=[]\n",
        "for i in range(0,5):\n",
        "  i=random.randint(1,101)\n",
        "  list1.append(i)\n",
        "  list1.sort()\n",
        "print(list1)"
      ],
      "metadata": {
        "colab": {
          "base_uri": "https://localhost:8080/"
        },
        "id": "UjZRvE4LrMH3",
        "outputId": "b3be3b9d-a403-41a4-bee3-e0312ec5560b"
      },
      "execution_count": null,
      "outputs": [
        {
          "output_type": "stream",
          "name": "stdout",
          "text": [
            "[6, 11, 27, 60, 61]\n"
          ]
        }
      ]
    },
    {
      "cell_type": "code",
      "source": [
        "#28.  Write a code to create a list with strings and print the element at the third index.\n",
        "\n",
        "letters=[\"a\",\"b\",\"c\",\"d\"]\n",
        "print(letters)\n",
        "index=int(input(\"enter the index u wish to find: \"))\n",
        "print(f\"the letter at {index} is \",letters[index])"
      ],
      "metadata": {
        "colab": {
          "base_uri": "https://localhost:8080/"
        },
        "id": "Eozm07el9NNM",
        "outputId": "cd54bb62-f649-4449-f589-2fa966cd41c2"
      },
      "execution_count": null,
      "outputs": [
        {
          "output_type": "stream",
          "name": "stdout",
          "text": [
            "['a', 'b', 'c', 'd']\n",
            "enter the index u wish to find: 3\n",
            "the letter at 3 is  d\n"
          ]
        }
      ]
    },
    {
      "cell_type": "code",
      "source": [
        "#29. Write a code to combine two dictionaries into one and print the result.\n",
        "\n",
        "dict1={'name': 'Bob', 'age': 22, 'city': 'New York'}\n",
        "print(dict1)\n",
        "dict2={\"job\":\"datascience\",\"phn_no\":1234}\n",
        "print(dict2)\n",
        "dict1.update(dict2)\n",
        "print(dict1)"
      ],
      "metadata": {
        "colab": {
          "base_uri": "https://localhost:8080/"
        },
        "id": "ri25JFgd968z",
        "outputId": "2e17b774-3711-489a-eb45-e083903239f4"
      },
      "execution_count": null,
      "outputs": [
        {
          "output_type": "stream",
          "name": "stdout",
          "text": [
            "{'name': 'Bob', 'age': 22, 'city': 'New York'}\n",
            "{'job': 'datascience', 'phn_no': 1234}\n",
            "{'name': 'Bob', 'age': 22, 'city': 'New York', 'job': 'datascience', 'phn_no': 1234}\n"
          ]
        }
      ]
    },
    {
      "cell_type": "code",
      "source": [
        "#30.  Write a code to convert a list of strings into a set.\n",
        "\n",
        "letters=[\"a\",\"b\",\"c\",\"d\"]\n",
        "print(letters)\n",
        "print(\"The set version of the list is \",set(letters))"
      ],
      "metadata": {
        "colab": {
          "base_uri": "https://localhost:8080/"
        },
        "id": "08NKdyc__Ac8",
        "outputId": "e9de5ff8-5dd3-44b4-b050-b2a430802909"
      },
      "execution_count": null,
      "outputs": [
        {
          "output_type": "stream",
          "name": "stdout",
          "text": [
            "['a', 'b', 'c', 'd']\n",
            "The set version of the list is  {'d', 'b', 'a', 'c'}\n"
          ]
        }
      ]
    }
  ]
}